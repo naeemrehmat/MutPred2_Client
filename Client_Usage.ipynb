{
 "cells": [
  {
   "cell_type": "code",
   "execution_count": 1,
   "metadata": {},
   "outputs": [],
   "source": [
    "from MutPred2 import MutPred2_Client"
   ]
  },
  {
   "cell_type": "code",
   "execution_count": 2,
   "metadata": {},
   "outputs": [],
   "source": [
    "# following is fasta format sequence\n",
    "\"\"\"\n",
    ">A4GALT G187D\n",
    "MSKPPDLLLRLLRGAPRQRVCTLFIIGFKFTFFVSIMIYWHVVGEPKEKGQLYNLPAEIPCPTLTPPTPPSHGPT\n",
    "PGNIFFLETSDRTNPNFLFMCSVESAARTHPESHVLVLMKGLPGGNASLPRHLGISLLSCFPNVQMLPLDLRELF\n",
    "RDTPLADWYAAVQGRWEPYLLPVLSDASRIALMWKFGGIYLDTDFIVLKNLRNLTNVLGTQSRYVLNGAFLAFER\n",
    "RHEFMALCMRDFVDHYNGWIWGHQGPQLLTRVFKKWCSIRSLAESRACRGVTTLPPEAFYPIPWQDWKKYFEDIN\n",
    "PEELPRLLSATYAVHVWNKKSQGTRFEATSRALLAQLHARYCPTTHEAMKMYL\n",
    "\"\"\"\n",
    "fasta_sequence =\">A4GALT G187D\\nMSKPPDLLLRLLRGAPRQRVCTLFIIGFKFTFFVSIMIYWHVVGEPKEKGQLYNLPAEIPCPTLTPPTPPSHGPT\\nPGNIFFLETSDRTNPNFLFMCSVESAARTHPESHVLVLMKGLPGGNASLPRHLGISLLSCFPNVQMLPLDLRELF\\nRDTPLADWYAAVQGRWEPYLLPVLSDASRIALMWKFGGIYLDTDFIVLKNLRNLTNVLGTQSRYVLNGAFLAFER\\nRHEFMALCMRDFVDHYNGWIWGHQGPQLLTRVFKKWCSIRSLAESRACRGVTTLPPEAFYPIPWQDWKKYFEDIN\\nPEELPRLLSATYAVHVWNKKSQGTRFEATSRALLAQLHARYCPTTHEAMKMYL\""
   ]
  },
  {
   "cell_type": "code",
   "execution_count": 3,
   "metadata": {},
   "outputs": [
    {
     "name": "stdout",
     "output_type": "stream",
     "text": [
      ">A4GALT G187D\n",
      "MSKPPDLLLRLLRGAPRQRVCTLFIIGFKFTFFVSIMIYWHVVGEPKEKGQLYNLPAEIPCPTLTPPTPPSHGPT\n",
      "PGNIFFLETSDRTNPNFLFMCSVESAARTHPESHVLVLMKGLPGGNASLPRHLGISLLSCFPNVQMLPLDLRELF\n",
      "RDTPLADWYAAVQGRWEPYLLPVLSDASRIALMWKFGGIYLDTDFIVLKNLRNLTNVLGTQSRYVLNGAFLAFER\n",
      "RHEFMALCMRDFVDHYNGWIWGHQGPQLLTRVFKKWCSIRSLAESRACRGVTTLPPEAFYPIPWQDWKKYFEDIN\n",
      "PEELPRLLSATYAVHVWNKKSQGTRFEATSRALLAQLHARYCPTTHEAMKMYL\n"
     ]
    }
   ],
   "source": [
    "print( fasta_sequence )"
   ]
  },
  {
   "cell_type": "code",
   "execution_count": 4,
   "metadata": {},
   "outputs": [
    {
     "name": "stdout",
     "output_type": "stream",
     "text": [
      "We have detected a recovery point; do you want to recover previous jobs?\n",
      "Enter 1 to recover OR, 0 to ignore = 0\n"
     ]
    }
   ],
   "source": [
    "email= \"first.last@domain.name\" #\"naeem.rehmat65@gmail.com\"\n",
    "p_value=0.5\n",
    "client = MutPred2_Client()"
   ]
  },
  {
   "cell_type": "code",
   "execution_count": 5,
   "metadata": {},
   "outputs": [
    {
     "name": "stdout",
     "output_type": "stream",
     "text": [
      "Completed Jobs = 0\n",
      "Running Jobs = 0\n"
     ]
    }
   ],
   "source": [
    "client.all_jobs_status()"
   ]
  },
  {
   "cell_type": "code",
   "execution_count": 6,
   "metadata": {},
   "outputs": [
    {
     "name": "stdout",
     "output_type": "stream",
     "text": [
      "Job Submitted Successfully and Job ID: 8d22bfad-44a8-4353-a2e0-7761e94ed0ff\n"
     ]
    }
   ],
   "source": [
    "client.add_job(email , fasta_sequence , p_value)"
   ]
  },
  {
   "cell_type": "code",
   "execution_count": 7,
   "metadata": {},
   "outputs": [
    {
     "name": "stdout",
     "output_type": "stream",
     "text": [
      "Completed Jobs = 0\n",
      "Running Jobs = 1\n"
     ]
    }
   ],
   "source": [
    "client.all_jobs_status()"
   ]
  },
  {
   "cell_type": "code",
   "execution_count": 8,
   "metadata": {},
   "outputs": [
    {
     "name": "stdout",
     "output_type": "stream",
     "text": [
      "Job is already running and job ID: 8d22bfad-44a8-4353-a2e0-7761e94ed0ff\n"
     ]
    }
   ],
   "source": [
    "client.add_job(email , fasta_sequence , p_value) #cannot send same job multiple time"
   ]
  },
  {
   "cell_type": "code",
   "execution_count": 9,
   "metadata": {},
   "outputs": [
    {
     "name": "stdout",
     "output_type": "stream",
     "text": [
      "Completed Jobs = 0\n",
      "Running Jobs = 1\n"
     ]
    }
   ],
   "source": [
    "client.all_jobs_status()"
   ]
  },
  {
   "cell_type": "code",
   "execution_count": 11,
   "metadata": {},
   "outputs": [
    {
     "name": "stdout",
     "output_type": "stream",
     "text": [
      "Please Wait Job is not completed yet\n",
      "No Job is completed yet to be saved\n"
     ]
    }
   ],
   "source": [
    "client.save_results(\"test_result.csv\")"
   ]
  },
  {
   "cell_type": "code",
   "execution_count": 12,
   "metadata": {},
   "outputs": [],
   "source": [
    "#Wait for MutPred2 to finish job"
   ]
  },
  {
   "cell_type": "code",
   "execution_count": 14,
   "metadata": {},
   "outputs": [
    {
     "name": "stdout",
     "output_type": "stream",
     "text": [
      "Completed Jobs = 1\n",
      "Running Jobs = 0\n"
     ]
    }
   ],
   "source": [
    "client.all_jobs_status()"
   ]
  },
  {
   "cell_type": "code",
   "execution_count": 15,
   "metadata": {},
   "outputs": [
    {
     "name": "stdout",
     "output_type": "stream",
     "text": [
      "Result of  1  completed jobs is saved in current directory as: test_result.csv\n"
     ]
    }
   ],
   "source": [
    "client.save_results(\"test_result.csv\")"
   ]
  },
  {
   "cell_type": "code",
   "execution_count": null,
   "metadata": {},
   "outputs": [],
   "source": []
  }
 ],
 "metadata": {
  "kernelspec": {
   "display_name": "Python 3",
   "language": "python",
   "name": "python3"
  },
  "language_info": {
   "codemirror_mode": {
    "name": "ipython",
    "version": 3
   },
   "file_extension": ".py",
   "mimetype": "text/x-python",
   "name": "python",
   "nbconvert_exporter": "python",
   "pygments_lexer": "ipython3",
   "version": "3.7.1"
  }
 },
 "nbformat": 4,
 "nbformat_minor": 2
}
